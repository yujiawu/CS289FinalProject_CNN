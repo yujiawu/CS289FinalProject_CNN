{
 "cells": [
  {
   "cell_type": "code",
   "execution_count": 53,
   "metadata": {
    "collapsed": true
   },
   "outputs": [],
   "source": [
    "import tensorflow as tf\n",
    "import numpy as np\n",
    "\n",
    "%matplotlib inline\n",
    "import pylab\n",
    "\n",
    "import matplotlib.pyplot as plt\n",
    "import scipy\n",
    "import scipy.io as sio\n",
    "from sklearn.model_selection import train_test_split\n",
    "\n",
    "image_by_pixel = sio.loadmat('combined_img.mat')\n",
    "label_by_pixel = sio.loadmat('combined_lab.mat')\n",
    "\n",
    "test_image_by_pixel = sio.loadmat('s3d2_jpgimage.mat')\n",
    "test_label_by_pixel = sio.loadmat('s3d2_jpglabel.mat')\n"
   ]
  },
  {
   "cell_type": "code",
   "execution_count": 54,
   "metadata": {
    "collapsed": false
   },
   "outputs": [],
   "source": [
    "down_sample_rate=4\n",
    "def image_process(image, label, down_sample_rate=4):\n",
    "    images = image['allimages'][::down_sample_rate ,::down_sample_rate , :]  # downsample the image\n",
    "    labels = label['disc'][::down_sample_rate ,::down_sample_rate , :]       # downsample the pixel\n",
    "    image_length1 = images.shape[0]\n",
    "    image_length2 = images.shape[1]\n",
    "    num_image = images.shape[2]                # number of images\n",
    "    image_size = image_length1*image_length2   # image size \n",
    "    \n",
    "    label_whole = np.zeros((num_image, image_size))#the label of whether the image is all trash or not\n",
    "    images_processed = np.zeros((num_image, image_size))    \n",
    "    for _ in range(num_image):\n",
    "        label_whole[_] = labels[:,:,_].reshape(image_size)\n",
    "        images_processed[_] = images[:,:,_].reshape(image_size)\n",
    "    return images_processed, label_whole, image_size, image_length1\n",
    "\n",
    "train_image, train_label, image_size, image_length = image_process(image_by_pixel,label_by_pixel, down_sample_rate)\n",
    "\n",
    "test_image, test_label, _, _ = image_process(test_image_by_pixel, test_label_by_pixel, down_sample_rate)\n",
    "\n",
    "########important ###############\n",
    "output_size = image_size\n"
   ]
  },
  {
   "cell_type": "code",
   "execution_count": 55,
   "metadata": {
    "collapsed": false
   },
   "outputs": [],
   "source": [
    "# define variable placeholder for tf\n",
    "x = tf.placeholder('float',[None, image_size])\n",
    "y = tf.placeholder('float', [None, output_size])"
   ]
  },
  {
   "cell_type": "code",
   "execution_count": 56,
   "metadata": {
    "collapsed": true
   },
   "outputs": [],
   "source": [
    "conv1_patch_len = 7\n",
    "conv1_num_filters = 10\n",
    "\n",
    "conv2_patch_len = 7\n",
    "conv2_num_filters = 10\n",
    "\n",
    "full_con_len = 1024\n",
    "\n",
    "def conv2d(x,W):             # strides = 1\n",
    "    return tf.nn.conv2d(x, W, strides=[1,1,1,1], padding = 'SAME')\n",
    "\n",
    "def maxpool2d(x):            #size of window    # movement of window\n",
    "    return tf.nn.max_pool(x, ksize = [1,2,2,1], strides = [1,2,2,1], padding = 'SAME')\n",
    "    #return tf.nn.max_pool(x, ksize = [1,2,2,1], strides = [1,2,2,1])\n",
    "\n",
    "def conv_neural_net(x):\n",
    "    weights = {'W_conv1': tf.Variable(tf.random_normal([conv1_patch_len, conv1_patch_len, 1 ,conv1_num_filters], mean=0.0,stddev=0.02)),\n",
    "               'W_conv2': tf.Variable(tf.random_normal([conv2_patch_len, conv2_patch_len, conv1_num_filters,conv2_num_filters ], mean=0.0,stddev=0.02)),\n",
    "               #'W_fc' : tf.Variable(tf.random_normal([image_size//16*conv2_num_filters, full_con_len], mean=0.0,stddev=0.02)),\n",
    "               'W_fc' : tf.Variable(tf.random_normal([image_size*conv2_num_filters, full_con_len], mean=0.0,stddev=0.02)),\n",
    "               'out' : tf.Variable(tf.random_normal([full_con_len ,output_size], mean=0.0,stddev=0.02))}\n",
    "    \n",
    "    biases = {'B_conv1': tf.Variable(tf.random_normal([conv1_num_filters], mean=0.0,stddev=0.02)),\n",
    "               'B_conv2': tf.Variable(tf.random_normal([conv2_num_filters ], mean=0.0,stddev=0.02)),\n",
    "               'B_fc' : tf.Variable(tf.random_normal([full_con_len], mean=0.0,stddev=0.02)),\n",
    "               'out' : tf.Variable(tf.random_normal([output_size], mean=0.0,stddev=0.02))}\n",
    "    \n",
    "    x = tf.reshape(x, shape = [-1, image_length,image_length, 1])\n",
    "    conv1 = tf.nn.relu(conv2d(x, weights['W_conv1'])+ biases['B_conv1'])\n",
    "    #conv1 = maxpool2d(conv1)\n",
    "    \n",
    "    conv2 = tf.nn.relu(conv2d(conv1, weights['W_conv2'])+ biases['B_conv2'])\n",
    "    #conv2 = maxpool2d(conv2)\n",
    "    \n",
    "    #fc = tf.reshape(conv2, [-1, image_size//16*conv2_num_filters ])\n",
    "    fc = tf.reshape(conv2, [-1, image_size*conv2_num_filters ])\n",
    "    fc = tf.nn.relu(tf.matmul(fc, weights['W_fc'])+biases['B_fc'])\n",
    "    \n",
    "    output = tf.matmul(fc, weights['out']+biases['out'])\n",
    "    # output = tf.nn.softmax(output)\n",
    "    return output\n"
   ]
  },
  {
   "cell_type": "code",
   "execution_count": 74,
   "metadata": {
    "collapsed": true
   },
   "outputs": [],
   "source": [
    "def train_neural_network(x):\n",
    "    prediction = conv_neural_net(x)\n",
    "    cost = tf.reduce_mean(tf.nn.sigmoid_cross_entropy_with_logits(logits=prediction, labels=y) )\n",
    "    # double check what cost function to use\n",
    "    # cost = tf.nn.softmax_cross_entropy_with_logits(logits=prediction, labels=y) \n",
    "    # cost =  tf.reduce_mean(tf.nn.softmax_cross_entropy_with_logits(logits=prediction,labels=y))\n",
    "    optimizer = tf.train.AdamOptimizer().minimize(cost)\n",
    "\n",
    "    hm_epochs = 1 # number of epochs\n",
    "    with tf.Session() as sess:\n",
    "        sess.run(tf.global_variables_initializer())\n",
    "\n",
    "        for epoch in range(hm_epochs):\n",
    "            _, epoch_loss = sess.run([optimizer, cost], feed_dict={x: train_image, y: train_label})\n",
    "            print('Epoch', epoch+1, 'completed out of',hm_epochs,'loss:',epoch_loss)\n",
    "            \n",
    "            \n",
    "        pred =tf.to_int32(tf.greater(prediction, 1), name='ToInt32')\n",
    "        correct = tf.equal(pred , tf.to_int32(y, name='ToInt32'))\n",
    "        accuracy = tf.reduce_mean(tf.cast(correct, 'float')) \n",
    "        print(accuracy.eval({x:test_image, y:test_label}))\n",
    "        # print(prediction.eval({x:train_image})[0][0:150], prediction.eval({x:train_image})[1][0:150])\n",
    "        sio.savemat(\"prediction\", {'pred': pred.eval({x:train_image})})"
   ]
  },
  {
   "cell_type": "code",
   "execution_count": 75,
   "metadata": {
    "collapsed": false
   },
   "outputs": [
    {
     "name": "stdout",
     "output_type": "stream",
     "text": [
      "Epoch 1 completed out of 1 loss: 15.4761\n",
      "0.884358\n"
     ]
    }
   ],
   "source": [
    "train_neural_network(x)"
   ]
  },
  {
   "cell_type": "code",
   "execution_count": 76,
   "metadata": {
    "collapsed": false
   },
   "outputs": [
    {
     "data": {
      "text/plain": [
       "{'__globals__': [],\n",
       " '__header__': b'MATLAB 5.0 MAT-file Platform: posix, Created on: Thu May  4 20:29:28 2017',\n",
       " '__version__': '1.0',\n",
       " 'pred': array([[0, 0, 0, ..., 0, 0, 0],\n",
       "        [0, 0, 0, ..., 0, 0, 0],\n",
       "        [0, 0, 0, ..., 0, 0, 0],\n",
       "        ..., \n",
       "        [0, 0, 0, ..., 0, 0, 0],\n",
       "        [0, 0, 0, ..., 0, 0, 0],\n",
       "        [0, 0, 0, ..., 0, 0, 0]], dtype=int32)}"
      ]
     },
     "execution_count": 76,
     "metadata": {},
     "output_type": "execute_result"
    }
   ],
   "source": [
    "a= sio.loadmat('prediction.mat')\n",
    "a"
   ]
  },
  {
   "cell_type": "code",
   "execution_count": null,
   "metadata": {
    "collapsed": true
   },
   "outputs": [],
   "source": []
  }
 ],
 "metadata": {
  "anaconda-cloud": {},
  "kernelspec": {
   "display_name": "Python [default]",
   "language": "python",
   "name": "python3"
  },
  "language_info": {
   "codemirror_mode": {
    "name": "ipython",
    "version": 3
   },
   "file_extension": ".py",
   "mimetype": "text/x-python",
   "name": "python",
   "nbconvert_exporter": "python",
   "pygments_lexer": "ipython3",
   "version": "3.5.2"
  }
 },
 "nbformat": 4,
 "nbformat_minor": 1
}
