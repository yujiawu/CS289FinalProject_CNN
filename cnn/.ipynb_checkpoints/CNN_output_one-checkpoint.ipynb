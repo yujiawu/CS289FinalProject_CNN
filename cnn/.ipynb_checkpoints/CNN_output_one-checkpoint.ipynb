{
 "cells": [
  {
   "cell_type": "markdown",
   "metadata": {},
   "source": [
    "# Things to do \n",
    "# 1. Choose a good cost function and activation function\n",
    "# 2. Get more data\n",
    "# 3. The intialization is very important! Some times it will stuck in a local minima, and get a bad training result\n",
    "# 4. Tuning is very important! Do not use a too complicated CNN for this 1 output model.\n"
   ]
  },
  {
   "cell_type": "code",
   "execution_count": 7,
   "metadata": {
    "collapsed": true
   },
   "outputs": [],
   "source": [
    "import tensorflow as tf\n",
    "import numpy as np\n",
    "\n",
    "%matplotlib inline\n",
    "import pylab\n",
    "\n",
    "import matplotlib.pyplot as plt\n",
    "import scipy\n",
    "import scipy.io as sio\n",
    "from sklearn.model_selection import train_test_split\n",
    "\n",
    "image_by_pixel = sio.loadmat('S0D2_jpgimage.mat')\n",
    "label_by_pixel = sio.loadmat('S0D2_jpglabel.mat')\n",
    "\n",
    "test_image_by_pixel = sio.loadmat('S1D1_jpgimage.mat')\n",
    "test_label_by_pixel = sio.loadmat('S1D1_jpglabel.mat')"
   ]
  },
  {
   "cell_type": "code",
   "execution_count": 8,
   "metadata": {
    "collapsed": false
   },
   "outputs": [],
   "source": [
    "def image_process(image, label, down_sample_rate=4):\n",
    "    images = image['allimages'][::down_sample_rate ,::down_sample_rate , :]  # downsample the image\n",
    "    labels = label['disc'][::down_sample_rate ,::down_sample_rate , :]       # downsample the pixel\n",
    "    image_length1 = images.shape[0]\n",
    "    image_length2 = images.shape[1]\n",
    "    num_image = images.shape[2]                # number of images\n",
    "    image_size = image_length1*image_length2   # image size \n",
    "    label_whole = np.zeros((num_image, output_size))#the label of whether the image is all trash or not\n",
    "    images_processed = np.zeros((num_image, image_size))    \n",
    "    for _ in range(num_image):\n",
    "        label_whole[_] = 1*(np.linalg.norm(labels[:,:,_]) != 0) \n",
    "        images_processed[_] = images[:,:,_].reshape(image_size)\n",
    "    return images_processed, label_whole, image_size, image_length1\n",
    "\n",
    "\n",
    "output_size = 1                            # output portal size 1: 0 - garbge 1 - useful\n",
    "\n",
    "train_image, train_label, image_size, image_length = image_process(image_by_pixel, label_by_pixel, 4)\n",
    "test_image, test_label, _, _ =  image_process(test_image_by_pixel, test_label_by_pixel, 4)\n",
    "\n"
   ]
  },
  {
   "cell_type": "code",
   "execution_count": 9,
   "metadata": {
    "collapsed": true
   },
   "outputs": [],
   "source": [
    "# define variable placeholder for tf\n",
    "x = tf.placeholder('float',[None, image_size])\n",
    "y = tf.placeholder('float', [None, output_size])"
   ]
  },
  {
   "cell_type": "code",
   "execution_count": 10,
   "metadata": {
    "collapsed": false
   },
   "outputs": [],
   "source": [
    "############### TUNING PARAMETER ###################\n",
    "conv1_patch_len = 5\n",
    "conv1_num_filters = 32\n",
    "\n",
    "conv2_patch_len = 5\n",
    "conv2_num_filters = 16\n",
    "\n",
    "full_con_len = 8\n",
    "##################################################\n",
    "\n",
    "def conv2d(x,W):             # strides = 1\n",
    "    return tf.nn.conv2d(x, W, strides=[1,1,1,1], padding = 'SAME')\n",
    "\n",
    "def maxpool2d(x):            #size of window    # movement of window\n",
    "    return tf.nn.max_pool(x, ksize = [1,2,2,1], strides = [1,2,2,1], padding = 'SAME')\n",
    "    #return tf.nn.max_pool(x, ksize = [1,2,2,1], strides = [1,2,2,1])\n",
    "\n",
    "def conv_neural_net(x):\n",
    "    weights = {'W_conv1': tf.Variable(tf.random_normal([conv1_patch_len, conv1_patch_len, 1 ,conv1_num_filters], mean=0.0,stddev=0.02)),\n",
    "               'W_conv2': tf.Variable(tf.random_normal([conv2_patch_len, conv2_patch_len, conv1_num_filters,conv2_num_filters], mean=0.0,stddev=0.02)),\n",
    "               'W_fc' : tf.Variable(tf.random_normal([image_size//16*conv2_num_filters, full_con_len], mean=0.0,stddev=0.02)),\n",
    "               'out' : tf.Variable(tf.random_normal([full_con_len ,output_size], mean=0.0,stddev=0.02))}\n",
    "    \n",
    "    biases = {'B_conv1': tf.Variable(tf.random_normal([conv1_num_filters], mean=0.0,stddev=0.02)),\n",
    "               'B_conv2': tf.Variable(tf.random_normal([conv2_num_filters ], mean=0.0,stddev=0.02)),\n",
    "               'B_fc' : tf.Variable(tf.random_normal([full_con_len], mean=0.0,stddev=0.02)),\n",
    "               'out' : tf.Variable(tf.random_normal([output_size], mean=0.0,stddev=0.02))}\n",
    "    \n",
    "    x = tf.reshape(x, shape = [-1, image_length,image_length, 1])\n",
    "    conv1 = tf.nn.relu(conv2d(x, weights['W_conv1'])+ biases['B_conv1'])\n",
    "    conv1 = maxpool2d(conv1)\n",
    "    \n",
    "    conv2 = tf.nn.relu(conv2d(conv1, weights['W_conv2'])+ biases['B_conv2'])\n",
    "    conv2 = maxpool2d(conv2)\n",
    "    \n",
    "    fc = tf.reshape(conv2, [-1, image_size//16*conv2_num_filters ])\n",
    "    fc = tf.nn.relu(tf.matmul(fc, weights['W_fc'])+biases['B_fc'])\n",
    "    \n",
    "    output = tf.matmul(fc, weights['out']+biases['out'])\n",
    "\n",
    "    return output"
   ]
  },
  {
   "cell_type": "code",
   "execution_count": 13,
   "metadata": {
    "collapsed": true
   },
   "outputs": [],
   "source": [
    "def train_neural_network(x):\n",
    "    prediction = conv_neural_net(x)\n",
    "    cost = tf.reduce_mean(tf.nn.sigmoid_cross_entropy_with_logits(logits=prediction, labels=y) )\n",
    "    # double check what cost function to use\n",
    "    # cost = tf.nn.softmax_cross_entropy_with_logits(logits=prediction, labels=y) \n",
    "    # cost =  tf.reduce_mean( tf.nn.softmax_cross_entropy_with_logits(logits=prediction,labels=y) )\n",
    "    optimizer = tf.train.AdamOptimizer().minimize(cost)\n",
    "\n",
    "    ############### TUNING PARAMETER ###################\n",
    "    hm_epochs = 150 # number of epochs\n",
    "    ####################################################\n",
    "    with tf.Session() as sess:\n",
    "        sess.run(tf.global_variables_initializer())\n",
    "\n",
    "        for epoch in range(hm_epochs):\n",
    "            _, epoch_loss = sess.run([optimizer, cost], feed_dict={x: train_image, y: train_label})\n",
    "            print('Epoch', epoch+1, 'completed out of',hm_epochs,'loss:',epoch_loss)\n",
    "            \n",
    "\n",
    "        pred =tf.to_int32(tf.greater(prediction, tf.ones([tf.size(y) ,1])), name='ToInt32')\n",
    "        correct = tf.equal(pred , tf.to_int32(y, name='ToInt32'))\n",
    "        accuracy = tf.reduce_mean(tf.cast(correct, 'float')) \n",
    "        print(prediction.eval({x:test_image}), test_label)\n",
    "        print('Training Accuracy:',accuracy.eval({x:train_image, y:train_label}))\n",
    "        print('Test Accuracy:',accuracy.eval({x:test_image, y:test_label}))\n"
   ]
  },
  {
   "cell_type": "code",
   "execution_count": null,
   "metadata": {
    "collapsed": true
   },
   "outputs": [],
   "source": []
  }
 ],
 "metadata": {
  "anaconda-cloud": {},
  "kernelspec": {
   "display_name": "Python [default]",
   "language": "python",
   "name": "python3"
  },
  "language_info": {
   "codemirror_mode": {
    "name": "ipython",
    "version": 3
   },
   "file_extension": ".py",
   "mimetype": "text/x-python",
   "name": "python",
   "nbconvert_exporter": "python",
   "pygments_lexer": "ipython3",
   "version": "3.5.2"
  }
 },
 "nbformat": 4,
 "nbformat_minor": 1
}
