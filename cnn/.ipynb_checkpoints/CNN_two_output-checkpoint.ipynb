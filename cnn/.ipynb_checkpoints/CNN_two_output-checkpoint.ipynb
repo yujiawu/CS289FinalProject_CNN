{
 "cells": [
  {
   "cell_type": "code",
   "execution_count": 1,
   "metadata": {
    "collapsed": true
   },
   "outputs": [],
   "source": [
    "import tensorflow as tf\n",
    "import numpy as np\n",
    "\n",
    "%matplotlib inline\n",
    "import pylab\n",
    "\n",
    "import matplotlib.pyplot as plt\n",
    "import scipy\n",
    "import scipy.io as sio\n",
    "from sklearn.model_selection import train_test_split\n",
    "\n",
    "image_by_pixel = sio.loadmat('combined_img.mat')\n",
    "label_by_pixel = sio.loadmat('combined_lab.mat')\n",
    "\n",
    "test_image_by_pixel = sio.loadmat('s3d2_jpgimage.mat')\n",
    "test_label_by_pixel = sio.loadmat('s3d2_jpglabel.mat')\n"
   ]
  },
  {
   "cell_type": "code",
   "execution_count": 2,
   "metadata": {
    "collapsed": true
   },
   "outputs": [],
   "source": [
    "def image_process(image, label, down_sample_rate=4):\n",
    "    images = image['allimages'][::down_sample_rate ,::down_sample_rate , :]  # downsample the image\n",
    "    labels = label['disc'][::down_sample_rate ,::down_sample_rate , :]       # downsample the pixel\n",
    "    image_length1 = images.shape[0]\n",
    "    image_length2 = images.shape[1]\n",
    "    num_image = images.shape[2]                # number of images\n",
    "    image_size = image_length1*image_length2   # image size \n",
    "    label_whole = np.zeros((num_image, output_size))#the label of whether the image is all trash or not\n",
    "    images_processed = np.zeros((num_image, image_size))    \n",
    "    for _ in range(num_image):\n",
    "        kk= 1*(np.linalg.norm(labels[:,:,_]) != 0) \n",
    "        if kk ==1:     \n",
    "            label_whole[_,1] = 1               # make output dimension = 2. for example [0,1] or [1,0]\n",
    "        else:\n",
    "            label_whole[_,0] = 1\n",
    "        \n",
    "        images_processed[_] = images[:,:,_].reshape(image_size)\n",
    "    return images_processed, label_whole, image_size, image_length1\n",
    "\n",
    "\n",
    "output_size = 2                          # output portal size 2, one-hot style.\n",
    "\n",
    "train_image, train_label, image_size, image_length = image_process(image_by_pixel, label_by_pixel, 4)\n",
    "test_image, test_label, _, _ =  image_process(test_image_by_pixel, test_label_by_pixel, 4)\n",
    "\n"
   ]
  },
  {
   "cell_type": "code",
   "execution_count": 3,
   "metadata": {
    "collapsed": false
   },
   "outputs": [],
   "source": [
    "# define variable placeholder for tf\n",
    "x = tf.placeholder('float',[None, image_size])\n",
    "y = tf.placeholder('float', [None, output_size])\n"
   ]
  },
  {
   "cell_type": "code",
   "execution_count": 4,
   "metadata": {
    "collapsed": true
   },
   "outputs": [],
   "source": [
    "############### TUNING PARAMETER ###################\n",
    "conv1_patch_len = 5\n",
    "conv1_num_filters = 32\n",
    "\n",
    "conv2_patch_len = 5\n",
    "conv2_num_filters = 16\n",
    "\n",
    "full_con_len = 8\n",
    "##################################################\n",
    "\n",
    "def conv2d(x,W):             # strides = 1\n",
    "    return tf.nn.conv2d(x, W, strides=[1,1,1,1], padding = 'SAME')\n",
    "\n",
    "def maxpool2d(x):            #size of window    # movement of window\n",
    "    return tf.nn.max_pool(x, ksize = [1,2,2,1], strides = [1,2,2,1], padding = 'SAME')\n",
    "    #return tf.nn.max_pool(x, ksize = [1,2,2,1], strides = [1,2,2,1])\n",
    "\n",
    "def conv_neural_net(x):\n",
    "    weights = {'W_conv1': tf.Variable(tf.random_normal([conv1_patch_len, conv1_patch_len, 1 ,conv1_num_filters], mean=0.0,stddev=0.02)),\n",
    "               'W_conv2': tf.Variable(tf.random_normal([conv2_patch_len, conv2_patch_len, conv1_num_filters,conv2_num_filters], mean=0.0,stddev=0.02)),\n",
    "               'W_fc' : tf.Variable(tf.random_normal([image_size//16*conv2_num_filters, full_con_len], mean=0.0,stddev=0.02)),\n",
    "               'out' : tf.Variable(tf.random_normal([full_con_len ,output_size], mean=0.0,stddev=0.02))}\n",
    "    \n",
    "    biases = {'B_conv1': tf.Variable(tf.random_normal([conv1_num_filters], mean=0.0,stddev=0.02)),\n",
    "               'B_conv2': tf.Variable(tf.random_normal([conv2_num_filters ], mean=0.0,stddev=0.02)),\n",
    "               'B_fc' : tf.Variable(tf.random_normal([full_con_len], mean=0.0,stddev=0.02)),\n",
    "               'out' : tf.Variable(tf.random_normal([output_size], mean=0.0,stddev=0.02))}\n",
    "    \n",
    "    x = tf.reshape(x, shape = [-1, image_length,image_length, 1])\n",
    "    conv1 = tf.nn.relu(conv2d(x, weights['W_conv1'])+ biases['B_conv1'])\n",
    "    conv1 = maxpool2d(conv1)\n",
    "    \n",
    "    conv2 = tf.nn.relu(conv2d(conv1, weights['W_conv2'])+ biases['B_conv2'])\n",
    "    conv2 = maxpool2d(conv2)\n",
    "    \n",
    "    fc = tf.reshape(conv2, [-1, image_size//16*conv2_num_filters ])\n",
    "    fc = tf.nn.softmax(tf.matmul(fc, weights['W_fc'])+biases['B_fc'])\n",
    "    \n",
    "    output = tf.matmul(fc, weights['out']+biases['out'])\n",
    "\n",
    "    return output"
   ]
  },
  {
   "cell_type": "code",
   "execution_count": 5,
   "metadata": {
    "collapsed": true
   },
   "outputs": [],
   "source": [
    "def train_neural_network(x):\n",
    "    prediction = conv_neural_net(x)\n",
    "    cost = tf.reduce_mean(tf.nn.softmax_cross_entropy_with_logits(logits=prediction, labels=y) )\n",
    "    # double check what cost function to use\n",
    "    # cost = tf.nn.softmax_cross_entropy_with_logits(logits=prediction, labels=y) \n",
    "    # cost =  tf.reduce_mean( tf.nn.softmax_cross_entropy_with_logits(logits=prediction,labels=y) )\n",
    "    optimizer = tf.train.AdamOptimizer().minimize(cost)\n",
    "\n",
    "    ############### TUNING PARAMETER ###################\n",
    "    hm_epochs = 50 # number of epochs\n",
    "    ####################################################\n",
    "    with tf.Session() as sess:\n",
    "        sess.run(tf.global_variables_initializer())\n",
    "\n",
    "        for epoch in range(hm_epochs):\n",
    "            _, epoch_loss = sess.run([optimizer, cost], feed_dict={x: train_image, y: train_label})\n",
    "            print('Epoch', epoch+1, 'completed out of',hm_epochs,'loss:',epoch_loss)\n",
    "            \n",
    "\n",
    "        correct = tf.equal(tf.argmax(prediction, 1), tf.argmax(y, 1))\n",
    "        accuracy = tf.reduce_mean(tf.cast(correct, 'float'))\n",
    "        print('Accuracy:',accuracy.eval({x:train_image, y:train_label}))\n",
    "        print('Accuracy:',accuracy.eval({x:test_image, y:test_label}))"
   ]
  },
  {
   "cell_type": "code",
   "execution_count": 6,
   "metadata": {
    "collapsed": false
   },
   "outputs": [
    {
     "name": "stdout",
     "output_type": "stream",
     "text": [
      "Epoch 1 completed out of 50 loss: 0.688302\n",
      "Epoch 2 completed out of 50 loss: 0.68652\n",
      "Epoch 3 completed out of 50 loss: 0.685241\n",
      "Epoch 4 completed out of 50 loss: 0.683965\n",
      "Epoch 5 completed out of 50 loss: 0.682692\n",
      "Epoch 6 completed out of 50 loss: 0.681424\n",
      "Epoch 7 completed out of 50 loss: 0.68016\n",
      "Epoch 8 completed out of 50 loss: 0.6789\n",
      "Epoch 9 completed out of 50 loss: 0.677644\n",
      "Epoch 10 completed out of 50 loss: 0.676393\n",
      "Epoch 11 completed out of 50 loss: 0.675146\n",
      "Epoch 12 completed out of 50 loss: 0.673904\n",
      "Epoch 13 completed out of 50 loss: 0.672667\n",
      "Epoch 14 completed out of 50 loss: 0.671434\n",
      "Epoch 15 completed out of 50 loss: 0.670207\n",
      "Epoch 16 completed out of 50 loss: 0.668985\n",
      "Epoch 17 completed out of 50 loss: 0.667767\n",
      "Epoch 18 completed out of 50 loss: 0.666555\n",
      "Epoch 19 completed out of 50 loss: 0.665346\n",
      "Epoch 20 completed out of 50 loss: 0.664145\n",
      "Epoch 21 completed out of 50 loss: 0.662948\n",
      "Epoch 22 completed out of 50 loss: 0.661756\n",
      "Epoch 23 completed out of 50 loss: 0.660569\n",
      "Epoch 24 completed out of 50 loss: 0.659388\n",
      "Epoch 25 completed out of 50 loss: 0.658212\n",
      "Epoch 26 completed out of 50 loss: 0.65704\n",
      "Epoch 27 completed out of 50 loss: 0.655875\n",
      "Epoch 28 completed out of 50 loss: 0.654715\n",
      "Epoch 29 completed out of 50 loss: 0.65356\n",
      "Epoch 30 completed out of 50 loss: 0.652411\n",
      "Epoch 31 completed out of 50 loss: 0.651267\n",
      "Epoch 32 completed out of 50 loss: 0.650128\n",
      "Epoch 33 completed out of 50 loss: 0.648995\n",
      "Epoch 34 completed out of 50 loss: 0.647867\n",
      "Epoch 35 completed out of 50 loss: 0.646746\n",
      "Epoch 36 completed out of 50 loss: 0.645628\n",
      "Epoch 37 completed out of 50 loss: 0.644517\n",
      "Epoch 38 completed out of 50 loss: 0.643411\n",
      "Epoch 39 completed out of 50 loss: 0.642311\n",
      "Epoch 40 completed out of 50 loss: 0.641216\n",
      "Epoch 41 completed out of 50 loss: 0.640127\n",
      "Epoch 42 completed out of 50 loss: 0.639043\n",
      "Epoch 43 completed out of 50 loss: 0.637964\n",
      "Epoch 44 completed out of 50 loss: 0.636891\n",
      "Epoch 45 completed out of 50 loss: 0.635823\n",
      "Epoch 46 completed out of 50 loss: 0.634761\n",
      "Epoch 47 completed out of 50 loss: 0.633703\n",
      "Epoch 48 completed out of 50 loss: 0.632652\n",
      "Epoch 49 completed out of 50 loss: 0.631606\n",
      "Epoch 50 completed out of 50 loss: 0.630565\n",
      "Accuracy: 0.825221\n",
      "Accuracy: 0.77\n"
     ]
    }
   ],
   "source": [
    "train_neural_network(x)"
   ]
  },
  {
   "cell_type": "code",
   "execution_count": null,
   "metadata": {
    "collapsed": true
   },
   "outputs": [],
   "source": []
  }
 ],
 "metadata": {
  "anaconda-cloud": {},
  "kernelspec": {
   "display_name": "Python [default]",
   "language": "python",
   "name": "python3"
  },
  "language_info": {
   "codemirror_mode": {
    "name": "ipython",
    "version": 3
   },
   "file_extension": ".py",
   "mimetype": "text/x-python",
   "name": "python",
   "nbconvert_exporter": "python",
   "pygments_lexer": "ipython3",
   "version": "3.5.2"
  }
 },
 "nbformat": 4,
 "nbformat_minor": 1
}
